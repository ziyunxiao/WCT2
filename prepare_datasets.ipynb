{
 "cells": [
  {
   "cell_type": "code",
   "execution_count": null,
   "metadata": {},
   "outputs": [],
   "source": [
    "import os\n",
    "\n",
    "# data_root = \"/data/data-science/rsong/data/805\"\n",
    "# files = os.listdir(f\"{data_root}/style\")\n",
    "# for fname in files:\n",
    "#     print(fname)\n",
    "#     arr = fname.split(\"_\")    \n",
    "#     # nf = fname.replace(\"_rightImg8bit\",\"\")\n",
    "#     nf = f\"{arr[1].zfill(7)}.{fname[-3:]}\"\n",
    "#     os.rename(f\"{data_root}/style/{fname}\",f\"{data_root}/style/{nf}\")\n"
   ]
  },
  {
   "cell_type": "code",
   "execution_count": null,
   "metadata": {},
   "outputs": [],
   "source": [
    "import os\n",
    "\n",
    "# data_root = \"/data/data-science/rsong/data/805\"\n",
    "# files = os.listdir(f\"{data_root}/style_segment\")\n",
    "# for fname in files:\n",
    "#     print(fname)\n",
    "#     arr = fname.split(\"_\")    \n",
    "#     # nf = fname.replace(\"_rightImg8bit\",\"\")\n",
    "#     nf = f\"{arr[1].zfill(7)}.{fname[-3:]}\"\n",
    "#     os.rename(f\"{data_root}/style_segment/{fname}\",f\"{data_root}/style_segment/{nf}\")"
   ]
  },
  {
   "cell_type": "code",
   "execution_count": 28,
   "metadata": {},
   "outputs": [
    {
     "name": "stdout",
     "output_type": "stream",
     "text": [
      "(1024, 2048, 3)\n",
      "(540, 800, 3)\n"
     ]
    }
   ],
   "source": [
    "from PIL import Image\n",
    "import numpy as np\n",
    "with Image.open(\"./805/style/0000000.png\") as im:\n",
    "    # print(im.size)\n",
    "    arr = np.array(im)\n",
    "    print(arr.shape)\n",
    "\n",
    "with Image.open(\"./examples/style/in00.png\") as im:\n",
    "    # print(im.size)\n",
    "    arr = np.array(im)\n",
    "    print(arr.shape)"
   ]
  },
  {
   "cell_type": "code",
   "execution_count": 22,
   "metadata": {},
   "outputs": [
    {
     "ename": "ImportError",
     "evalue": "cannot import name 'run_bulk2' from 'transfer' (/data/data-science/rsong/WCT2/transfer.py)",
     "output_type": "error",
     "traceback": [
      "\u001b[0;31m---------------------------------------------------------------------------\u001b[0m",
      "\u001b[0;31mImportError\u001b[0m                               Traceback (most recent call last)",
      "\u001b[1;32m/data/data-science/rsong/WCT2/prepare_datasets.ipynb Cell 3'\u001b[0m in \u001b[0;36m<cell line: 2>\u001b[0;34m()\u001b[0m\n\u001b[1;32m      <a href='vscode-notebook-cell:/data/data-science/rsong/WCT2/prepare_datasets.ipynb#ch0000002?line=0'>1</a>\u001b[0m \u001b[39m# process data\u001b[39;00m\n\u001b[0;32m----> <a href='vscode-notebook-cell:/data/data-science/rsong/WCT2/prepare_datasets.ipynb#ch0000002?line=1'>2</a>\u001b[0m \u001b[39mfrom\u001b[39;00m \u001b[39mtransfer\u001b[39;00m \u001b[39mimport\u001b[39;00m run_bulk2, get_default_config\n\u001b[1;32m      <a href='vscode-notebook-cell:/data/data-science/rsong/WCT2/prepare_datasets.ipynb#ch0000002?line=3'>4</a>\u001b[0m \u001b[39m# config = {\u001b[39;00m\n\u001b[1;32m      <a href='vscode-notebook-cell:/data/data-science/rsong/WCT2/prepare_datasets.ipynb#ch0000002?line=4'>5</a>\u001b[0m \u001b[39m#         \"alpha\": 1, \u001b[39;00m\n\u001b[1;32m      <a href='vscode-notebook-cell:/data/data-science/rsong/WCT2/prepare_datasets.ipynb#ch0000002?line=5'>6</a>\u001b[0m \u001b[39m#         \"content\": './examples/content', \u001b[39;00m\n\u001b[0;32m   (...)\u001b[0m\n\u001b[1;32m     <a href='vscode-notebook-cell:/data/data-science/rsong/WCT2/prepare_datasets.ipynb#ch0000002?line=17'>18</a>\u001b[0m \u001b[39m#         \"verbose\": False\u001b[39;00m\n\u001b[1;32m     <a href='vscode-notebook-cell:/data/data-science/rsong/WCT2/prepare_datasets.ipynb#ch0000002?line=18'>19</a>\u001b[0m \u001b[39m#     }\u001b[39;00m\n\u001b[1;32m     <a href='vscode-notebook-cell:/data/data-science/rsong/WCT2/prepare_datasets.ipynb#ch0000002?line=20'>21</a>\u001b[0m data_root \u001b[39m=\u001b[39m \u001b[39m\"\u001b[39m\u001b[39m/data/data-science/rsong/data/805\u001b[39m\u001b[39m\"\u001b[39m\n",
      "\u001b[0;31mImportError\u001b[0m: cannot import name 'run_bulk2' from 'transfer' (/data/data-science/rsong/WCT2/transfer.py)"
     ]
    }
   ],
   "source": [
    "# process data\n",
    "from transfer import run_bulk2, get_default_config\n",
    "\n",
    "# config = {\n",
    "#         \"alpha\": 1, \n",
    "#         \"content\": './examples/content', \n",
    "#         'content_segment': None, \n",
    "#         \"cpu\": False, \n",
    "#         \"image_size\": 512, \n",
    "#         \"option_unpool\": 'cat5', \n",
    "#         \"output\": './outputs', \n",
    "#         \"style\": './examples/style', \n",
    "#         \"style_segment\": None, \n",
    "#         \"transfer_all\": False, \n",
    "#         \"transfer_at_decoder\": False, \n",
    "#         \"transfer_at_encoder\": False, \n",
    "#         \"transfer_at_skip\": False, \n",
    "#         \"verbose\": False\n",
    "#     }\n",
    "\n",
    "data_root = \"/data/data-science/rsong/data/805\"\n",
    "config = get_default_config()\n",
    "config[\"transfer_all\"] = True\n",
    "config[\"content\"] = f\"{data_root}/content\"\n",
    "config[\"content_segment\"] = f\"{data_root}/content_segment\"\n",
    "config[\"style\"] = f\"{data_root}/style\"\n",
    "config[\"style_segment\"] = f\"{data_root}/style_segment\"\n",
    "\n",
    "\n",
    "run_bulk2(config)\n"
   ]
  }
 ],
 "metadata": {
  "interpreter": {
   "hash": "c7f363fa719ab3be540f1d79c70d4eedc7c3ae7f8ebb3a148aa32b37f6d958b2"
  },
  "kernelspec": {
   "display_name": "Python 3.8.10 ('.venv': venv)",
   "language": "python",
   "name": "python3"
  },
  "language_info": {
   "codemirror_mode": {
    "name": "ipython",
    "version": 3
   },
   "file_extension": ".py",
   "mimetype": "text/x-python",
   "name": "python",
   "nbconvert_exporter": "python",
   "pygments_lexer": "ipython3",
   "version": "3.8.10"
  },
  "orig_nbformat": 4
 },
 "nbformat": 4,
 "nbformat_minor": 2
}
