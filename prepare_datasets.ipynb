{
 "cells": [
  {
   "cell_type": "code",
   "execution_count": null,
   "metadata": {},
   "outputs": [],
   "source": [
    "import os\n",
    "\n",
    "# data_root = \"/data/data-science/rsong/data/805\"\n",
    "# files = os.listdir(f\"{data_root}/style\")\n",
    "# for fname in files:\n",
    "#     print(fname)\n",
    "#     arr = fname.split(\"_\")    \n",
    "#     # nf = fname.replace(\"_rightImg8bit\",\"\")\n",
    "#     nf = f\"{arr[1].zfill(7)}.{fname[-3:]}\"\n",
    "#     os.rename(f\"{data_root}/style/{fname}\",f\"{data_root}/style/{nf}\")\n"
   ]
  },
  {
   "cell_type": "code",
   "execution_count": null,
   "metadata": {},
   "outputs": [],
   "source": [
    "import os\n",
    "\n",
    "# data_root = \"/data/data-science/rsong/data/805\"\n",
    "# files = os.listdir(f\"{data_root}/style_segment\")\n",
    "# for fname in files:\n",
    "#     print(fname)\n",
    "#     arr = fname.split(\"_\")    \n",
    "#     # nf = fname.replace(\"_rightImg8bit\",\"\")\n",
    "#     nf = f\"{arr[1].zfill(7)}.{fname[-3:]}\"\n",
    "#     os.rename(f\"{data_root}/style_segment/{fname}\",f\"{data_root}/style_segment/{nf}\")"
   ]
  },
  {
   "cell_type": "code",
   "execution_count": null,
   "metadata": {},
   "outputs": [],
   "source": [
    "# remove alpha channel from content and segment png files\n",
    "# cd segment folder then run \n",
    "# for i in `ls *.png`; do convert $i -background black -alpha remove -alpha off $i; done\n",
    "\n",
    "# convert jpg to png\n",
    "\n",
    "# convert ubuntuhandbook.png -quality 90 ubuntuhandbook.jpg\n"
   ]
  },
  {
   "cell_type": "code",
   "execution_count": null,
   "metadata": {},
   "outputs": [],
   "source": [
    "from PIL import Image\n",
    "import numpy as np\n",
    "with Image.open(\"./805/style/0000001.png\") as im:\n",
    "    # print(im.size)\n",
    "    arr = np.asarray(im)\n",
    "    print(arr.shape)\n",
    "\n",
    "with Image.open(\"./examples/style/in00.png\") as im:\n",
    "    # print(im.size)\n",
    "    arr = np.array(im)\n",
    "    print(arr.shape)"
   ]
  },
  {
   "cell_type": "code",
   "execution_count": 1,
   "metadata": {},
   "outputs": [
    {
     "name": "stderr",
     "output_type": "stream",
     "text": [
      "  0%|          | 0/21 [00:00<?, ?it/s]/data/data-science/rsong/WCT2/.venv/lib/python3.8/site-packages/torchvision/transforms/transforms.py:332: UserWarning: Argument interpolation should be of type InterpolationMode instead of int. Please, use InterpolationMode enum.\n",
      "  warnings.warn(\n",
      "100%|██████████| 21/21 [03:02<00:00,  8.69s/it]\n"
     ]
    }
   ],
   "source": [
    "# process data\n",
    "from transfer import run_bulk2, get_default_config\n",
    "\n",
    "# config = {\n",
    "#         \"alpha\": 1, \n",
    "#         \"content\": './examples/content', \n",
    "#         'content_segment': None, \n",
    "#         \"cpu\": False, \n",
    "#         \"image_size\": 512, \n",
    "#         \"option_unpool\": 'cat5', \n",
    "#         \"output\": './outputs', \n",
    "#         \"style\": './examples/style', \n",
    "#         \"style_segment\": None, \n",
    "#         \"transfer_all\": False, \n",
    "#         \"transfer_at_decoder\": False, \n",
    "#         \"transfer_at_encoder\": False, \n",
    "#         \"transfer_at_skip\": False, \n",
    "#         \"verbose\": False\n",
    "#     }\n",
    "\n",
    "data_root = \"./805\"\n",
    "config = get_default_config()\n",
    "config[\"transfer_all\"] = True\n",
    "# config[\"transfer_at_skip\"] = True\n",
    "config[\"content\"] = f\"{data_root}/content\"\n",
    "config[\"content_segment\"] = f\"{data_root}/content_segment\"\n",
    "config[\"style\"] = f\"{data_root}/style\"\n",
    "config[\"style_segment\"] = f\"{data_root}/style_segment\"\n",
    "config[\"verbose\"] = False\n",
    "config[\"output\"] = f\"{data_root}/output/withsegment\"\n",
    "\n",
    "\n",
    "run_bulk2(config)"
   ]
  },
  {
   "cell_type": "code",
   "execution_count": 9,
   "metadata": {},
   "outputs": [
    {
     "name": "stderr",
     "output_type": "stream",
     "text": [
      "0it [00:00, ?it/s]\n"
     ]
    }
   ],
   "source": [
    "from transfer import run_bulk2, get_default_config\n",
    "\n",
    "data_root = \"./805\"\n",
    "config = get_default_config()\n",
    "config[\"transfer_all\"] = True\n",
    "# config[\"transfer_at_skip\"] = True\n",
    "config[\"transfer_at_skip\"] = True\n",
    "config[\"option_unpool\"] = \"sum\"\n",
    "# config[\"content_segment\"] = f\"{data_root}/content_segment\"\n",
    "config[\"style\"] = f\"{data_root}/style\"\n",
    "config[\"style_segment\"] = f\"{data_root}/style_segment\"\n",
    "config[\"verbose\"] = False\n",
    "config[\"output\"] = f\"{data_root}/output/withoutsegment\"\n",
    "\n",
    "run_bulk2(config)"
   ]
  }
 ],
 "metadata": {
  "interpreter": {
   "hash": "c7f363fa719ab3be540f1d79c70d4eedc7c3ae7f8ebb3a148aa32b37f6d958b2"
  },
  "kernelspec": {
   "display_name": "Python 3.8.10 ('.venv': venv)",
   "language": "python",
   "name": "python3"
  },
  "language_info": {
   "codemirror_mode": {
    "name": "ipython",
    "version": 3
   },
   "file_extension": ".py",
   "mimetype": "text/x-python",
   "name": "python",
   "nbconvert_exporter": "python",
   "pygments_lexer": "ipython3",
   "version": "3.8.10"
  },
  "orig_nbformat": 4
 },
 "nbformat": 4,
 "nbformat_minor": 2
}
